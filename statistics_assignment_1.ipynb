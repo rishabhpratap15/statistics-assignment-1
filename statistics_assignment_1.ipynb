{
  "nbformat": 4,
  "nbformat_minor": 0,
  "metadata": {
    "colab": {
      "provenance": []
    },
    "kernelspec": {
      "name": "python3",
      "display_name": "Python 3"
    },
    "language_info": {
      "name": "python"
    }
  },
  "cells": [
    {
      "cell_type": "markdown",
      "source": [
        "Question 1: What is the difference between descriptive statistics and inferential\n",
        "statistics? Explain with examples.\n",
        "\n",
        "Ans 1 : Descriptive Statistics:\n",
        "Descriptive statistics are used to summarize, organize, and describe the main features of a dataset. They provide simple summaries about the sample and the measures.\n",
        "\n",
        "Purpose: To describe the data.\n",
        "Does not involve making predictions or generalizations beyond the data at hand.\n",
        "\n",
        "ex : A teacher calculates the average score of students in a class (e.g., average = 75%).\n",
        "\n",
        "inferential statistics : it contains of using sample data that has been measured to form conclusion about the population . this comes into play when population is large and we have time and resource constraints.\n",
        "\n",
        "ex: A researcher surveys 200 voters and estimates that 60% of the population supports a candidate.\n",
        "\n",
        "\n",
        "| Feature      | Descriptive Statistics                 | Inferential Statistics                                     |\n",
        "| ------------ | -------------------------------------- | ---------------------------------------------------------- |\n",
        "| Purpose      | Describe data                          | Make predictions/inferences                                |\n",
        "| Based on     | Entire data set (sample or population) | Sample data to generalize to population                    |\n",
        "| Methods used | Mean, Median, Mode, Charts             | Hypothesis Testing, Confidence Intervals                   |\n",
        "| Example      | Average test score of a class          | Estimating average test score of all students in a country |\n",
        "\n",
        "\n"
      ],
      "metadata": {
        "id": "beBJXsXGcTtQ"
      }
    },
    {
      "cell_type": "markdown",
      "source": [
        "Question 2: What is sampling in statistics? Explain the differences between random\n",
        "and stratified sampling.\n",
        "\n",
        "Ans : sample is portion from the population which is used to derive analysis and based on the info collected about the sample analysis on population.\n",
        "\n",
        "Random sampling : every member of the population has a equal number of chance/probability of being selected in the sample.\n",
        "\n",
        "Stratified sampling : layers / group\n",
        "to provide equal chance of representation different distinct categories are there a simple random sample would be chosen from each strata or layers.\n",
        "\n",
        "| **Aspect**              | **Random Sampling**                                                       | **Stratified Sampling**                                                                    |\n",
        "| ----------------------- | ------------------------------------------------------------------------- | ------------------------------------------------------------------------------------------ |\n",
        "| **Definition**          | Every individual in the population has an equal chance of being selected. | The population is divided into subgroups (strata), and random samples are taken from each. |\n",
        "| **Population Division** | No division of population into subgroups.                                 | Population is divided into strata based on specific characteristics (e.g., age, gender).   |\n",
        "| **Selection Method**    | Individuals are selected randomly from the entire population.             | Individuals are selected randomly **within each stratum**.                                 |\n",
        "| **Purpose**             | To get a general, unbiased representation of the entire population.       | To ensure **all key subgroups are represented** proportionally.                            |\n",
        "| **Use Case**            | When the population is **homogeneous** (similar characteristics).         | When the population is **heterogeneous** and has identifiable subgroups.                   |\n",
        "| **Example**             | Randomly choosing 100 students from a university list.                    | Dividing students by major (e.g., Science, Arts, Commerce) and sampling from each group.   |\n",
        "| **Accuracy**            | Less accurate if subgroups vary widely.                                   | More accurate and representative if subgroups are important.                               |\n",
        "| **Complexity**          | Simple to conduct.                                                        | More complex due to the need for dividing into strata.                                     |\n"
      ],
      "metadata": {
        "id": "2QblSTdwj0sl"
      }
    },
    {
      "cell_type": "markdown",
      "source": [
        "Question 3: Define mean, median, and mode. Explain why these measures of central\n",
        "tendency are important.\n",
        "\n",
        "Ans 3 : central tendency respresents the centre point of a data set.\n",
        "mean , median , mode .\n",
        "\n",
        "1. Mean (Average)\n",
        "\n",
        "The mean is the sum of all values in a dataset divided by the number of values\n",
        "\n",
        "2. median\n",
        "\n",
        "The median is the middle value of a dataset when the values are arranged in ascending or descending order.\n",
        "\n",
        "If there's an odd number of values: the median is the middle one.\n",
        "\n",
        "If there's an even number: the median is the average of the two middle values\n",
        "\n",
        "3. mode\n",
        "\n",
        "The mode is the value that appears most frequently in a dataset.\n",
        "\n",
        "A dataset can have no mode, one mode (unimodal), or multiple modes (bimodal/multimodal).\n",
        "\n",
        "| **Measure** | **Importance / Use**                                                                                                          |\n",
        "| ----------- | ----------------------------------------------------------------------------------------------------------------------------- |\n",
        "| **Mean**    | - Gives a general average<br> - Used in most statistical analysis<br> - Affected by outliers                                  |\n",
        "| **Median**  | - Useful when data has outliers or is skewed<br> - Represents the midpoint<br> - Often used in income and property price data |\n",
        "| **Mode**    | - Identifies the most common value<br> - Useful for categorical data<br> - Helps in understanding frequency patterns          |\n"
      ],
      "metadata": {
        "id": "rVCuiBTglN27"
      }
    },
    {
      "cell_type": "markdown",
      "source": [
        "Question 4: Explain skewness and kurtosis. What does a positive skew imply about the\n",
        "data?\n",
        "\n",
        "Ans 4 : 1. Skewness\n",
        "\n",
        "Skewness measures the asymmetry of a data distribution.\n",
        "\n",
        "A perfectly symmetrical distribution (like a normal distribution) has zero skewness.\n",
        "\n",
        "Skewness tells us if the data leans more to the left or right.\n",
        "\n",
        "Types of Skewness:\n",
        "Type\tDescription\tShape\n",
        "Positive Skew\tTail on the right side is longer. Most values are on the left.\tMean > Median > Mode\n",
        "Negative Skew\tTail on the left side is longer. Most values are on the right.\tMean < Median < Mode\n",
        "Zero Skew\tSymmetrical distribution.\tMean = Median = Mode\n",
        "✅ Positive Skew Implies:\n",
        "\n",
        "Most data values are low.\n",
        "\n",
        "A few high outliers pull the mean to the right.\n",
        "\n",
        "Example: Income distribution in many countries (a few very rich people skew the data).\n",
        "\n",
        "2. Kurtosis\n",
        "\n",
        "Kurtosis measures the \"tailedness\" or peakness of a distribution.\n",
        "\n",
        "It tells us whether the data have heavy or light tails compared to a normal distribution.\n",
        "\n",
        "Types of Kurtosis:\n",
        "Type\tDescription\tShape\n",
        "Mesokurtic\tNormal distribution; moderate tails and peak\tBaseline (reference distribution)\n",
        "Leptokurtic\tHigh peak, fat tails — more outliers than normal\tTall and narrow\n",
        "Platykurtic\tFlat peak, thin tails — fewer outliers\tFlat and wide\n",
        "Summary Table:\n",
        "Concept\tWhat it Measures\tWhat Positive Value Means\n",
        "Skewness\tAsymmetry of distribution\tData is positively skewed (tail to the right, mean > median)\n",
        "Kurtosis\tPeakedness & tail heaviness\tData has more outliers (if leptokurtic / high kurtosis)\n",
        "\n",
        "\n",
        "Visual Aid (Text-based):\n",
        "\n",
        "Positive Skew (Right-Skewed):\n",
        "|███████████▌────────────|\n",
        "\n",
        "Negative Skew (Left-Skewed):\n",
        "|──────▌███████████|\n",
        "\n",
        "Normal (No Skew):\n",
        "|────████████████────|"
      ],
      "metadata": {
        "id": "y3xWdGv9mici"
      }
    },
    {
      "cell_type": "markdown",
      "source": [
        "Question 5: Implement a Python program to compute the mean, median, and mode of\n",
        "a given list of numbers.\n",
        "numbers = [12, 15, 12, 18, 19, 12, 20, 22, 19, 19, 24, 24, 24, 26, 28]\n",
        "\n"
      ],
      "metadata": {
        "id": "M2AuFPgenUUY"
      }
    },
    {
      "cell_type": "code",
      "execution_count": 1,
      "metadata": {
        "colab": {
          "base_uri": "https://localhost:8080/"
        },
        "id": "HwsXmNQLcLAI",
        "outputId": "3ad8c0cc-2bb2-4fff-abe1-76f370ad17cf"
      },
      "outputs": [
        {
          "output_type": "stream",
          "name": "stdout",
          "text": [
            "Mean :  19.6\n",
            "Median :  19.0\n",
            "Mode :  ModeResult(mode=np.int64(12), count=np.int64(3))\n"
          ]
        }
      ],
      "source": [
        "# Amswer 5\n",
        "data = [12,15,12, 18, 19, 12, 20, 22, 19, 19, 24, 24, 24, 26, 28]\n",
        "import numpy as np\n",
        "from scipy import stats\n",
        "mean = np.mean(data)\n",
        "print(\"Mean : \",mean)\n",
        "median = np.median(data)\n",
        "print(\"Median : \",median)\n",
        "mode = stats.mode(data)\n",
        "print(\"Mode : \",mode)\n"
      ]
    },
    {
      "cell_type": "markdown",
      "source": [
        "Question 6: Compute the covariance and correlation coefficient between the following\n",
        "two datasets provided as lists in Python:\n",
        "list_x = [10, 20, 30, 40, 50]\n",
        "list_y = [15, 25, 35, 45, 60]\n"
      ],
      "metadata": {
        "id": "50_rS34poozW"
      }
    },
    {
      "cell_type": "code",
      "source": [
        "list_x = [10, 20, 30, 40, 50]\n",
        "list_y = [15, 25, 35, 45, 60]\n",
        "covariance = np.cov(list_x,list_y)\n",
        "print(\"Covariance : \",covariance)\n",
        "correlation = np.corrcoef(list_x,list_y)\n",
        "print(\"Correlation : \",correlation)"
      ],
      "metadata": {
        "colab": {
          "base_uri": "https://localhost:8080/"
        },
        "id": "jEwjQClko0Q-",
        "outputId": "37320b7e-0b46-4fd2-9bea-c7473c17659a"
      },
      "execution_count": 2,
      "outputs": [
        {
          "output_type": "stream",
          "name": "stdout",
          "text": [
            "Covariance :  [[250. 275.]\n",
            " [275. 305.]]\n",
            "Correlation :  [[1.         0.99589321]\n",
            " [0.99589321 1.        ]]\n"
          ]
        }
      ]
    },
    {
      "cell_type": "markdown",
      "source": [
        "Question 7: Write a Python script to draw a boxplot for the following numeric list and\n",
        "identify its outliers.\n",
        "\n",
        "Explain the result:\n",
        "data = [12, 14, 14, 15, 18, 19, 19, 21, 22, 22, 23, 23, 24, 26, 29, 35]\n"
      ],
      "metadata": {
        "id": "4iUIA5zspNRT"
      }
    },
    {
      "cell_type": "code",
      "source": [
        "import seaborn as sns\n",
        "data = [12, 14, 14, 15, 18, 19, 19, 21, 22, 22, 23, 23, 24, 26, 29, 35]\n",
        "sns.boxplot(data,color='red')\n",
        "# here 35 is the outlier as visible in the diagram below."
      ],
      "metadata": {
        "colab": {
          "base_uri": "https://localhost:8080/",
          "height": 428
        },
        "id": "kHUfRwX2pSEN",
        "outputId": "cb792f62-69e2-4950-8a42-348f97fa49ad"
      },
      "execution_count": 4,
      "outputs": [
        {
          "output_type": "execute_result",
          "data": {
            "text/plain": [
              "<Axes: >"
            ]
          },
          "metadata": {},
          "execution_count": 4
        },
        {
          "output_type": "display_data",
          "data": {
            "text/plain": [
              "<Figure size 640x480 with 1 Axes>"
            ],
            "image/png": "[encoded data removed]"
          },
          "metadata": {}
        }
      ]
    },
    {
      "cell_type": "markdown",
      "source": [
        "Question 8: You are working as a data analyst in an e-commerce company. The\n",
        "marketing team wants to know if there is a relationship between advertising spend and\n",
        "daily sales.\n",
        "\n",
        "● Explain how you would use covariance and correlation to explore this\n",
        "relationship.\n",
        "\n",
        "● Write Python code to compute the correlation between the two lists:\n",
        "\n",
        "advertising_spend = [200, 250, 300, 400, 500]\n",
        "\n",
        "daily_sales = [2200, 2450, 2750, 3200, 4000]\n"
      ],
      "metadata": {
        "id": "FPNom4USpmBt"
      }
    },
    {
      "cell_type": "code",
      "source": [
        "''' covariance means trying to understand the realtionship of one variable with respect to another. whereas correlation means\n",
        "relationship between two variables. it solves the problem of covariance which are range is defined and is dimension less.\n",
        "\n",
        "Step 1: Calculate covariance to see if the relationship is positive or negative.\n",
        "Step 2: Calculate correlation to see how strong the relationship is.\n",
        "\n",
        "'''\n",
        "advertising_spend = [200, 250, 300, 400, 500]\n",
        "daily_sales = [2200, 2450, 2750, 3200, 4000]\n",
        "covariance = np.cov(advertising_spend,daily_sales)\n",
        "print(\"Covariance : \",covariance)\n",
        "correlation = np.corrcoef(advertising_spend,daily_sales)\n",
        "print(\"Correlation : \",correlation)\n"
      ],
      "metadata": {
        "colab": {
          "base_uri": "https://localhost:8080/"
        },
        "id": "0lh6EFWuqGW_",
        "outputId": "fce2e55b-515f-44a5-ba8f-e3c856ad8d52"
      },
      "execution_count": 6,
      "outputs": [
        {
          "output_type": "stream",
          "name": "stdout",
          "text": [
            "Covariance :  [[ 14500.  84875.]\n",
            " [ 84875. 503250.]]\n",
            "Correlation :  [[1.         0.99358241]\n",
            " [0.99358241 1.        ]]\n"
          ]
        }
      ]
    },
    {
      "cell_type": "markdown",
      "source": [
        "Question 9: Your team has collected customer satisfaction survey data on a scale of\n",
        "1-10 and wants to understand its distribution before launching a new product.\n",
        "\n",
        "● Explain which summary statistics and visualizations (e.g. mean, standard\n",
        "deviation, histogram) you’d use.\n",
        "\n",
        "● Write Python code to create a histogram using Matplotlib for the survey\n",
        "\n",
        "data:\n",
        "\n",
        "survey_scores = [7, 8, 5, 9, 6, 7, 8, 9, 10, 4, 7, 6, 9, 8, 7]\n"
      ],
      "metadata": {
        "id": "x8i_BkeDrRlL"
      }
    },
    {
      "cell_type": "markdown",
      "source": [
        "| **Statistic**          | **Why It's Useful**                                                                   |\n",
        "| ---------------------- | ------------------------------------------------------------------------------------- |\n",
        "| **Mean**               | Shows the **average** satisfaction level.                                             |\n",
        "| **Median**             | Indicates the **middle score**, useful if there are outliers.                         |\n",
        "| **Mode**               | Tells which score appears **most frequently**.                                        |\n",
        "| **Standard Deviation** | Measures the **spread** of scores (i.e., how consistent or varied the responses are). |\n",
        "| **Minimum & Maximum**  | Shows the **range** of scores (lowest to highest).                                    |\n",
        "\n",
        "| **Chart**     | **Purpose**                                                                      |\n",
        "| ------------- | -------------------------------------------------------------------------------- |\n",
        "| **Histogram** | Shows the **distribution** of scores — are they centered, skewed, or spread out? |\n",
        "| **Box Plot**  | Identifies **median, quartiles, and outliers** visually.                         |\n",
        "| **Bar Chart** | (Optional) If scores are discrete, can show frequency of each score.             |\n"
      ],
      "metadata": {
        "id": "-kFfWeOrr0Ha"
      }
    },
    {
      "cell_type": "code",
      "source": [
        "import matplotlib.pyplot as plt\n",
        "survey_scores = [7, 8, 5, 9, 6, 7, 8, 9, 10, 4, 7, 6, 9, 8, 7]\n",
        "plt.figure(figsize=(8, 6))\n",
        "plt.hist(survey_scores, bins=range(1, 11), align='left', rwidth=0.8, color='green')\n",
        "plt.title('Customer Satisfaction Survey')\n",
        "plt.xlabel('Score')\n",
        "plt.ylabel('Frequency')\n",
        "plt.xticks(range(1, 11))\n",
        "plt.tight_layout()\n",
        "plt.show()"
      ],
      "metadata": {
        "colab": {
          "base_uri": "https://localhost:8080/",
          "height": 607
        },
        "id": "1k60QXVDrZcm",
        "outputId": "5a760534-bb22-4f9d-f56f-8c06a1e5eb93"
      },
      "execution_count": 9,
      "outputs": [
        {
          "output_type": "display_data",
          "data": {
            "text/plain": [
              "<Figure size 800x600 with 1 Axes>"
            ],
            "image/png": "[encoded data removed]"
          },
          "metadata": {}
        }
      ]
    }
  ]
}